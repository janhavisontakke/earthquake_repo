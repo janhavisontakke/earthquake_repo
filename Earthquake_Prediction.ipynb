# Earthquake Prediction using Machine Learning

# 📦 Imports
import pandas as pd
import numpy as np
import matplotlib.pyplot as plt
import seaborn as sns
from sklearn.model_selection import train_test_split
from sklearn.ensemble import RandomForestRegressor
from sklearn.metrics import mean_squared_error, r2_score
import warnings
warnings.filterwarnings('ignore')

# 📂 Load Data
df = pd.read_csv("earthquake_data.csv")
df.head()

# ℹ️ Data Info
df.info()
df.describe()

# 🧹 Drop Unnecessary Columns and Handle Missing Data
df = df.drop(columns=['title', 'net', 'location', 'continent', 'country'])
df = df.dropna()
df.reset_index(drop=True, inplace=True)

# 📊 Visualizations
plt.figure(figsize=(10,5))
sns.histplot(df['magnitude'], kde=True, bins=30)
plt.title('Magnitude Distribution')
plt.show()

plt.figure(figsize=(10,5))
sns.scatterplot(x='depth', y='magnitude', data=df)
plt.title('Depth vs Magnitude')
plt.show()

# 🔤 Encode Categorical Features
df = pd.get_dummies(df, columns=['alert', 'magType'])

# 🧪 Split Data
X = df.drop(columns=['magnitude', 'date_time'])
y = df['magnitude']
X_train, X_test, y_train, y_test = train_test_split(X, y, test_size=0.2, random_state=42)

# 🤖 Train Model
model = RandomForestRegressor(n_estimators=100, random_state=42)
model.fit(X_train, y_train)

# 📈 Evaluate Model
y_pred = model.predict(X_test)
print("R2 Score:", r2_score(y_test, y_pred))
print("RMSE:", np.sqrt(mean_squared_error(y_test, y_pred)))

# 🔮 Make Predictions
sample = X_test.iloc[0:1]
print("Predicted Magnitude:", model.predict(sample)[0])

